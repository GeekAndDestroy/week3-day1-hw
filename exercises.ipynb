{
 "cells": [
  {
   "cell_type": "markdown",
   "metadata": {},
   "source": [
    "# Exercises"
   ]
  },
  {
   "cell_type": "markdown",
   "metadata": {},
   "source": [
    "### Exercise 1 - Turn the shopping cart program into an object-oriented program"
   ]
  },
  {
   "cell_type": "code",
   "execution_count": 11,
   "metadata": {},
   "outputs": [
    {
     "name": "stdout",
     "output_type": "stream",
     "text": [
      "Welcome to the new, improved (despite the fewer features) shopping cart!\n",
      "\n",
      "What would you like to do? add/remove/show/quit add\n",
      "What would you like to add? apple\n",
      "\n",
      "Apple has been added to your cart.\n",
      "What would you like to do? add/remove/show/quit add banana\n",
      "Invalid response. Please try again\n",
      "What would you like to do? add/remove/show/quit add\n",
      "What would you like to add? banana\n",
      "\n",
      "Banana has been added to your cart.\n",
      "What would you like to do? add/remove/show/quit view\n",
      "Invalid response. Please try again\n",
      "What would you like to do? add/remove/show/quit show\n",
      "Here is your cart.\n",
      "\n",
      "Apple\n",
      "Banana\n",
      "What would you like to do? add/remove/show/quit add\n",
      "What would you like to add? orange\n",
      "\n",
      "Orange has been added to your cart.\n",
      "What would you like to do? add/remove/show/quit add\n",
      "What would you like to add? watermelon\n",
      "\n",
      "Watermelon has been added to your cart.\n",
      "What would you like to do? add/remove/show/quit show\n",
      "Here is your cart.\n",
      "\n",
      "Apple\n",
      "Banana\n",
      "Orange\n",
      "Watermelon\n",
      "What would you like to do? add/remove/show/quit add\n",
      "What would you like to add? apple\n",
      "\n",
      "Apple has been added to your cart.\n",
      "What would you like to do? add/remove/show/quit show\n",
      "Here is your cart.\n",
      "\n",
      "Apple\n",
      "Banana\n",
      "Orange\n",
      "Watermelon\n",
      "Apple\n",
      "What would you like to do? add/remove/show/quit remove\n",
      "What would you like to remove? apple\n",
      "\n",
      "Apple has been removed from your cart.\n",
      "What would you like to do? add/remove/show/quit show\n",
      "Here is your cart.\n",
      "\n",
      "Banana\n",
      "Orange\n",
      "Watermelon\n",
      "Apple\n",
      "What would you like to do? add/remove/show/quit quit\n",
      "Here is your cart.\n",
      "\n",
      "Banana\n",
      "Orange\n",
      "Watermelon\n",
      "Apple\n",
      "\n",
      "Thank you for using the shopping cart.\n",
      "Have a nice day!\n"
     ]
    }
   ],
   "source": [
    "# Create a class called cart that retains items and has methods to add, remove, and show\n",
    "\n",
    "class Cart:\n",
    "    def __init__(self):\n",
    "        self.cart_arr = []  \n",
    "    \n",
    "    def add(self, item):\n",
    "        self.cart_arr.append(item)\n",
    "        print(f\"\\n{item} has been added to your cart.\")\n",
    "    \n",
    "    def remove(self, item):\n",
    "        if item in self.cart_arr:\n",
    "            self.cart_arr.remove(item)\n",
    "            print(f\"\\n{item} has been removed from your cart.\")\n",
    "        else:\n",
    "            print(f\"\\n{item} is not in your cart.\")\n",
    "    \n",
    "    def show(self):\n",
    "        print(\"Here is your cart.\\n\")\n",
    "        for thing in self.cart_arr:\n",
    "            print(thing)\n",
    "    \n",
    "def shop():\n",
    "    cart = Cart()\n",
    "    print(\"Welcome to the new, improved (despite the fewer features) shopping cart!\\n\")\n",
    "    while True:\n",
    "        response = input(\"What would you like to do? add/remove/show/quit \").lower()\n",
    "        if response == 'add':\n",
    "            item = input(\"What would you like to add? \").title()\n",
    "            cart.add(item)\n",
    "        elif response == 'remove':\n",
    "            item = input(\"What would you like to remove? \").title()\n",
    "            cart.remove(item)\n",
    "        elif response == 'show':\n",
    "            cart.show()\n",
    "        elif response == 'quit':\n",
    "            cart.show()\n",
    "            print(\"\\nThank you for using the shopping cart.\\nHave a nice day!\")\n",
    "            break  \n",
    "        else:\n",
    "            print(\"Invalid response. Please try again\")\n",
    "\n",
    "shop()\n"
   ]
  },
  {
   "cell_type": "markdown",
   "metadata": {},
   "source": [
    "### Exercise 2 - Write a Python class for an Animal that has a name and energy attributes. The animal class should also have methods for eat, sleep, and play that will take in an integer and increase/decrease the energy of the animal with a formatted print statement"
   ]
  },
  {
   "cell_type": "code",
   "execution_count": null,
   "metadata": {},
   "outputs": [],
   "source": [
    "# Example 1\n",
    "# buddy = Animal('Buddy', 10)\n",
    "# buddy.play(5) -> \"Buddy is playing for 5 minutes. His energy is now 5\"\n",
    "# buddy.sleep(10) -> \"Buddy is sleeping for 5 minutes. His energy is now 15\""
   ]
  },
  {
   "cell_type": "code",
   "execution_count": 3,
   "metadata": {},
   "outputs": [
    {
     "name": "stdout",
     "output_type": "stream",
     "text": [
      "Buddy has played for 5 minutes. His energy is now 5\n",
      "Buddy has slept for 10 minutes. His energy is now 15\n"
     ]
    }
   ],
   "source": [
    "class Animal:\n",
    "    def __init__(self, name, energy):\n",
    "        self.name = name\n",
    "        self.energy = energy\n",
    "        \n",
    "    def play(self, time):\n",
    "        self.energy -= time\n",
    "        print(f\"{self.name} has played for {time} minutes. His energy is now {self.energy}\")\n",
    "    \n",
    "    def sleep(self, time):\n",
    "        self.energy += time\n",
    "        print(f\"{self.name} has slept for {time} minutes. His energy is now {self.energy}\")\n",
    "        \n",
    "        \n",
    "buddy = Animal('Buddy', 10)\n",
    "\n",
    "buddy.play(5)\n",
    "\n",
    "buddy.sleep(10)"
   ]
  }
 ],
 "metadata": {
  "kernelspec": {
   "display_name": "Python 3 (ipykernel)",
   "language": "python",
   "name": "python3"
  },
  "language_info": {
   "codemirror_mode": {
    "name": "ipython",
    "version": 3
   },
   "file_extension": ".py",
   "mimetype": "text/x-python",
   "name": "python",
   "nbconvert_exporter": "python",
   "pygments_lexer": "ipython3",
   "version": "3.11.5"
  }
 },
 "nbformat": 4,
 "nbformat_minor": 2
}
